{
 "cells": [
  {
   "cell_type": "markdown",
   "metadata": {},
   "source": [
    "### Problem to solve"
   ]
  },
  {
   "cell_type": "markdown",
   "metadata": {},
   "source": [
    "The goal of this issue is to collect a minimum of 1000 reviews for any 10 cryptocurrency-related applications (100 each). These could be the apps of the blockchain wallets, crypto custodians, or any crypto projects.\n",
    "\n",
    "1. Collect reviews for the apps of your choice and make sure that you define where the reviews are coming from - Apple App Store or Google Play Store.\n",
    "2. Identify sentiment score for each review using one of the existing sentiment analysis tools.\n",
    "3. Identify either geolocation, or language for each review.\n",
    "4. For the final deliverable, create:\n",
    "\n",
    "-  CSV-file with the following structure: `app name`, `username`, `timestamp`, `app review text`, `sentiment score`, `country (language)`, `marketplace`*\n",
    "\n",
    "*`marketplace` - Apple App Store or Google Play Store\n",
    "\n",
    "- short report with graphs (based on the reviews that you collected) and basic descriptive statistics"
   ]
  },
  {
   "cell_type": "markdown",
   "metadata": {},
   "source": [
    "### Installing and Importing"
   ]
  },
  {
   "cell_type": "code",
   "execution_count": null,
   "metadata": {},
   "outputs": [],
   "source": [
    "pip install google_play_scraper"
   ]
  },
  {
   "cell_type": "code",
   "execution_count": null,
   "metadata": {},
   "outputs": [],
   "source": [
    "pip install app_store_scraper"
   ]
  },
  {
   "cell_type": "code",
   "execution_count": 8,
   "metadata": {},
   "outputs": [],
   "source": [
    "import pandas as pd\n",
    "import numpy as np\n",
    "from google_play_scraper import app, Sort, reviews_all, reviews\n",
    "from  app_store_scraper import AppStore\n",
    "import json, os, uuid\n",
    "from tqdm import tqdm\n"
   ]
  },
  {
   "cell_type": "markdown",
   "metadata": {},
   "source": [
    "### Defining Variables"
   ]
  },
  {
   "cell_type": "code",
   "execution_count": 2,
   "metadata": {},
   "outputs": [],
   "source": [
    "apps_names = [\"Trust: Crypto & Bitcoin Wallet\",  #1\n",
    "            \"Binance: BTC, Crypto and NFTS\",     #2\n",
    "            \"Blockchain.com Wallet: Buy BTC\",    #3\n",
    "            \"Coinbase: Buy Bitcoin & Ether \",    #4\n",
    "            \"Exodus: Crypto Bitcoin Wallet\",     #5\n",
    "            \"EXMO: buy, sell crypto and BTC\",    #6\n",
    "            \"Enjin: Crypto & NFT Wallet\",        #7\n",
    "            \"HyperPay :Wallet Crypto & Card\",    #8\n",
    "            \"Coinomi: Crypto Bitcoin Wallet\",    #9\n",
    "            \"Guarda Crypto Bitcoin Wallet\"       #10\n",
    "]\n",
    "apps_info_g={\"Trust: Crypto & Bitcoin Wallet\":\"com.wallet.crypto.trustapp\",\n",
    "            \"Binance: BTC, Crypto and NFTS\":\"com.binance.dev\",\n",
    "            \"Blockchain.com Wallet: Buy BTC\":\"piuk.blockchain.android\",\n",
    "            \"Coinbase: Buy Bitcoin & Ether \":\"com.coinbase.android\",\n",
    "            \"Exodus: Crypto Bitcoin Wallet\":\"exodusmovement.exodus\",\n",
    "            \"EXMO: buy, sell crypto and BTC\":\"com.exmo\",\n",
    "            \"Enjin: Crypto & NFT Wallet\":\"com.enjin.mobile.wallet\",\n",
    "            \"HyperPay :Wallet Crypto & Card\":\"com.legendwd.hyperpayW\",\n",
    "            \"Coinomi: Crypto Bitcoin Wallet\":\"com.coinomi.wallet\",\n",
    "            \"Guarda Crypto Bitcoin Wallet\":\"com.crypto.multiwallet\"}\n",
    "apps_info_a={\"Trust: Crypto & Bitcoin Wallet\":(\"trust-crypto-bitcoin-wallet\",\"1288339409\"),\n",
    "            \"Binance: BTC, Crypto and NFTS\":(\"binance-buy-bitcoin-crypto\",\"1436799971\"),\n",
    "            \"Blockchain.com Wallet: Buy BTC\":(\"blockchain-com-wallet-buy-btc\",\"493253309\"),\n",
    "            \"Coinbase: Buy Bitcoin & Ether \":(\"coinbase-buy-bitcoin-ether\",\"886427730\"),\n",
    "            \"Exodus: Crypto Bitcoin Wallet\":(\"exodus-crypto-bitcoin-wallet\",\"1414384820\"),\n",
    "            \"EXMO: buy, sell crypto and BTC\":(\"exmo-cryptocurrency-exchange\",\"1505496232\"),\n",
    "            \"Enjin: Crypto & NFT Wallet\":(\"enjin-nft-crypto-wallet\",\"1349078375\"),\n",
    "            \"HyperPay :Wallet Crypto & Card\":(\"hyperpay-crypto-btc-wallet\",\"1354755812\"),\n",
    "            \"Coinomi: Crypto Bitcoin Wallet\":(\"coinomi-wallet\",\"1333588809\"),\n",
    "            \"Guarda Crypto Bitcoin Wallet\":(\"guarda-crypto-wallet-bitcoin\",\"1442083982\")}"
   ]
  },
  {
   "cell_type": "code",
   "execution_count": 3,
   "metadata": {},
   "outputs": [],
   "source": [
    "n_reviews_app_source = 50 # per app per source \n",
    "def_lang='en'\n",
    "def_country='us'"
   ]
  },
  {
   "cell_type": "code",
   "execution_count": 4,
   "metadata": {},
   "outputs": [
    {
     "data": {
      "text/plain": [
       "'1288339409'"
      ]
     },
     "execution_count": 4,
     "metadata": {},
     "output_type": "execute_result"
    }
   ],
   "source": [
    "apps_info_a[apps_names[0]][1] # getting id of an application"
   ]
  },
  {
   "cell_type": "markdown",
   "metadata": {},
   "source": [
    "### Languages and Countries"
   ]
  },
  {
   "cell_type": "code",
   "execution_count": 47,
   "metadata": {},
   "outputs": [],
   "source": [
    "Countries = ['us', 'fr','de','es','bg']\n",
    "languages = { \"us\":\"en\",\n",
    "     \"fr\":\"fr\",\n",
    "     \"de\":\"de\",\n",
    "     \"es\":\"es\",\n",
    "     \"bg\":\"bg\"}\n",
    "     \n",
    "'''lang_country = {\"United States\": (\"us\",\"en\"),\n",
    "    \"France\": (\"fr\",\"fr\"),\n",
    "    \"Germany\": (\"de\",\"de\"),\n",
    "    \"Spain\": (\"es\",\"es\"),\n",
    "    \"Bulgaria\": (\"bg\",\"bg\"),}'''\n"
   ]
  },
  {
   "cell_type": "markdown",
   "metadata": {},
   "source": [
    "### Scraping Functions"
   ]
  },
  {
   "cell_type": "code",
   "execution_count": 29,
   "metadata": {},
   "outputs": [],
   "source": [
    "def fix_format (app_name, fetched_reviews, source,lang =def_lang, country=def_country):\n",
    "    '''\n",
    "    fix_format is a function that reformat the scrapped reviews\n",
    "    : app_name: the name of the app to scrape reviews for\n",
    "    : fetched_reviews: list of fetched reviews\n",
    "    : source: 'a': scrape from Apple store, 'g': scrape from Google Play Store\n",
    "    : count: number of reviews to be scrapped\n",
    "    : lang: language of reviews to be scrapped\n",
    "    : country: country where to scratch reviews from  \n",
    "    '''\n",
    "    \n",
    "    if source == 'g':\n",
    "        fixed_reviews = [{'app name':app_name,\n",
    "             'username':review['userName'],\n",
    "             'timestamp':review['at'],\n",
    "             'app review text':review['content'],\n",
    "             'feteched_language': lang,\n",
    "             'feteched_country': country,\n",
    "             'marketplace':\"Google Play\"\n",
    "             } for review in fetched_reviews]\n",
    "        return fixed_reviews  \n",
    "        \n",
    "    elif source == 'a':\n",
    "        fixed_reviews = [{'app name':app_name,\n",
    "             'username':review['userName'],\n",
    "             'timestamp':review['date'],\n",
    "             'app review text':review['title']+' '+review['review'],\n",
    "             'feteched_language': lang,\n",
    "             'feteched_country': country,\n",
    "             'marketplace':\"App Store\"\n",
    "             }for review in fetched_reviews]\n",
    "        return fixed_reviews  \n",
    "    else:\n",
    "        print(f'Source must be either {0} or {1}','g : Google Play', 'a : Apple Store' )\n",
    "\n",
    "        "
   ]
  },
  {
   "cell_type": "code",
   "execution_count": 16,
   "metadata": {},
   "outputs": [],
   "source": [
    "def scrape(app_name, source, count=n_reviews_app_source, lang =def_lang, country=def_country):\n",
    "    '''\n",
    "    scrape is a function that uses google_play_ scrapper or app_store_scraper to scrape an app reviews.\n",
    "    : app_name: the name of the app to scrape reviews for\n",
    "    : source: 'a': scrape from Apple store, 'g': scrape from Google Play Store\n",
    "    : count: number of reviews to be scrapped\n",
    "    : lang: language of reviews to be scrapped\n",
    "    : country: country where to scratch reviews from    \n",
    "    '''\n",
    "    \n",
    "    if source == 'g':       \n",
    "        g_reviews, _ = reviews(apps_info_g[app_name],\n",
    "                lang=lang,  # defaults to 'en'\n",
    "                country=country,  # defaults to 'us'\n",
    "                count=count  ) # defaults to 30 (= Google's maximum)\n",
    "        fixed_reviews = fix_format(app_name, g_reviews,source,lang,country)\n",
    "        return fixed_reviews\n",
    "\n",
    "    elif source == 'a':\n",
    "        a_reviews = AppStore(country,apps_info_a[app_name][0],apps_info_a[app_name][1])\n",
    "        a_reviews.review(how_many=count)\n",
    "        fixed_reviews=( fix_format(app_name, a_reviews.reviews,source,lang,country))\n",
    "        return fixed_reviews\n",
    "    \n",
    "    else:\n",
    "        print(f'Source must be either {0} or {1}','g : Google Play', 'a : Apple Store' )\n"
   ]
  },
  {
   "cell_type": "code",
   "execution_count": 17,
   "metadata": {},
   "outputs": [
    {
     "name": "stderr",
     "output_type": "stream",
     "text": [
      "  0%|          | 0/10 [00:00<?, ?it/s]2022-09-27 17:34:18,003 [INFO] Base - Initialised: AppStore('us', 'trust-crypto-bitcoin-wallet', 1288339409)\n",
      "2022-09-27 17:34:18,004 [INFO] Base - Ready to fetch reviews from: https://apps.apple.com/us/app/trust-crypto-bitcoin-wallet/id1288339409\n",
      "2022-09-27 17:34:18,927 [INFO] Base - [id:1288339409] Fetched 20 reviews (20 fetched in total)\n",
      " 10%|█         | 1/10 [00:02<00:26,  2.99s/it]2022-09-27 17:34:20,277 [INFO] Base - Initialised: AppStore('us', 'binance-buy-bitcoin-crypto', 1436799971)\n",
      "2022-09-27 17:34:20,278 [INFO] Base - Ready to fetch reviews from: https://apps.apple.com/us/app/binance-buy-bitcoin-crypto/id1436799971\n",
      "2022-09-27 17:34:20,784 [INFO] Base - [id:1436799971] Fetched 20 reviews (20 fetched in total)\n",
      " 20%|██        | 2/10 [00:04<00:18,  2.32s/it]2022-09-27 17:34:22,117 [INFO] Base - Initialised: AppStore('us', 'blockchain-com-wallet-buy-btc', 493253309)\n",
      "2022-09-27 17:34:22,118 [INFO] Base - Ready to fetch reviews from: https://apps.apple.com/us/app/blockchain-com-wallet-buy-btc/id493253309\n",
      "2022-09-27 17:34:22,643 [INFO] Base - [id:493253309] Fetched 20 reviews (20 fetched in total)\n",
      " 30%|███       | 3/10 [00:06<00:14,  2.11s/it]2022-09-27 17:34:25,581 [INFO] Base - Initialised: AppStore('us', 'coinbase-buy-bitcoin-ether', 886427730)\n",
      "2022-09-27 17:34:25,583 [INFO] Base - Ready to fetch reviews from: https://apps.apple.com/us/app/coinbase-buy-bitcoin-ether/id886427730\n",
      "2022-09-27 17:34:26,146 [INFO] Base - [id:886427730] Fetched 20 reviews (20 fetched in total)\n",
      " 40%|████      | 4/10 [00:10<00:15,  2.66s/it]2022-09-27 17:34:28,007 [INFO] Base - Initialised: AppStore('us', 'exodus-crypto-bitcoin-wallet', 1414384820)\n",
      "2022-09-27 17:34:28,008 [INFO] Base - Ready to fetch reviews from: https://apps.apple.com/us/app/exodus-crypto-bitcoin-wallet/id1414384820\n",
      "2022-09-27 17:34:28,504 [INFO] Base - [id:1414384820] Fetched 20 reviews (20 fetched in total)\n",
      " 50%|█████     | 5/10 [00:12<00:12,  2.55s/it]2022-09-27 17:34:31,237 [INFO] Base - Initialised: AppStore('us', 'exmo-cryptocurrency-exchange', 1505496232)\n",
      "2022-09-27 17:34:31,237 [INFO] Base - Ready to fetch reviews from: https://apps.apple.com/us/app/exmo-cryptocurrency-exchange/id1505496232\n",
      "2022-09-27 17:34:31,705 [INFO] Base - [id:1505496232] Fetched 20 reviews (20 fetched in total)\n",
      " 60%|██████    | 6/10 [00:15<00:11,  2.77s/it]2022-09-27 17:34:33,816 [INFO] Base - Initialised: AppStore('us', 'enjin-nft-crypto-wallet', 1349078375)\n",
      "2022-09-27 17:34:33,817 [INFO] Base - Ready to fetch reviews from: https://apps.apple.com/us/app/enjin-nft-crypto-wallet/id1349078375\n",
      "2022-09-27 17:34:34,918 [INFO] Base - [id:1349078375] Fetched 20 reviews (20 fetched in total)\n",
      " 70%|███████   | 7/10 [00:18<00:08,  2.92s/it]2022-09-27 17:34:37,021 [INFO] Base - Initialised: AppStore('us', 'hyperpay-crypto-btc-wallet', 1354755812)\n",
      "2022-09-27 17:34:37,023 [INFO] Base - Ready to fetch reviews from: https://apps.apple.com/us/app/hyperpay-crypto-btc-wallet/id1354755812\n",
      "2022-09-27 17:34:38,737 [INFO] Base - [id:1354755812] Fetched 20 reviews (20 fetched in total)\n",
      " 80%|████████  | 8/10 [00:22<00:06,  3.20s/it]2022-09-27 17:34:40,883 [INFO] Base - Initialised: AppStore('us', 'coinomi-wallet', 1333588809)\n",
      "2022-09-27 17:34:40,883 [INFO] Base - Ready to fetch reviews from: https://apps.apple.com/us/app/coinomi-wallet/id1333588809\n",
      "2022-09-27 17:34:41,845 [INFO] Base - [id:1333588809] Fetched 20 reviews (20 fetched in total)\n",
      " 90%|█████████ | 9/10 [00:25<00:03,  3.17s/it]2022-09-27 17:34:43,313 [INFO] Base - Initialised: AppStore('us', 'guarda-crypto-wallet-bitcoin', 1442083982)\n",
      "2022-09-27 17:34:43,315 [INFO] Base - Ready to fetch reviews from: https://apps.apple.com/us/app/guarda-crypto-wallet-bitcoin/id1442083982\n",
      "2022-09-27 17:34:43,914 [INFO] Base - [id:1442083982] Fetched 20 reviews (20 fetched in total)\n",
      "100%|██████████| 10/10 [00:27<00:00,  2.80s/it]\n"
     ]
    }
   ],
   "source": [
    "app_reviews = []\n",
    "for app in tqdm(apps_names):\n",
    "    g_reviews = scrape(app, 'g', count=2)\n",
    "    app_reviews.extend(g_reviews)\n",
    "    a_reviews = scrape(app, 'a', count=2)\n",
    "    app_reviews.extend(a_reviews)"
   ]
  },
  {
   "cell_type": "code",
   "execution_count": 19,
   "metadata": {},
   "outputs": [
    {
     "data": {
      "text/plain": [
       "220"
      ]
     },
     "execution_count": 19,
     "metadata": {},
     "output_type": "execute_result"
    }
   ],
   "source": [
    "len(app_reviews)"
   ]
  },
  {
   "cell_type": "markdown",
   "metadata": {},
   "source": [
    "### Current Results to DF to CSV"
   ]
  },
  {
   "cell_type": "code",
   "execution_count": 23,
   "metadata": {},
   "outputs": [],
   "source": [
    "feteched_df = pd.DataFrame(app_reviews)"
   ]
  },
  {
   "cell_type": "code",
   "execution_count": 24,
   "metadata": {},
   "outputs": [
    {
     "data": {
      "text/html": [
       "<div>\n",
       "<style scoped>\n",
       "    .dataframe tbody tr th:only-of-type {\n",
       "        vertical-align: middle;\n",
       "    }\n",
       "\n",
       "    .dataframe tbody tr th {\n",
       "        vertical-align: top;\n",
       "    }\n",
       "\n",
       "    .dataframe thead th {\n",
       "        text-align: right;\n",
       "    }\n",
       "</style>\n",
       "<table border=\"1\" class=\"dataframe\">\n",
       "  <thead>\n",
       "    <tr style=\"text-align: right;\">\n",
       "      <th></th>\n",
       "      <th>app name</th>\n",
       "      <th>username</th>\n",
       "      <th>timestamp</th>\n",
       "      <th>app review text</th>\n",
       "      <th>feteched_language</th>\n",
       "      <th>feteched_country</th>\n",
       "      <th>marketplace</th>\n",
       "    </tr>\n",
       "  </thead>\n",
       "  <tbody>\n",
       "    <tr>\n",
       "      <th>0</th>\n",
       "      <td>Trust: Crypto &amp; Bitcoin Wallet</td>\n",
       "      <td>SureshPatel 0719</td>\n",
       "      <td>2022-09-26 17:22:42</td>\n",
       "      <td>good</td>\n",
       "      <td>en</td>\n",
       "      <td>us</td>\n",
       "      <td>Google Play</td>\n",
       "    </tr>\n",
       "    <tr>\n",
       "      <th>1</th>\n",
       "      <td>Trust: Crypto &amp; Bitcoin Wallet</td>\n",
       "      <td>Ravinder Singh</td>\n",
       "      <td>2022-09-26 17:16:17</td>\n",
       "      <td>After update my trust wallet is not open pleas...</td>\n",
       "      <td>en</td>\n",
       "      <td>us</td>\n",
       "      <td>Google Play</td>\n",
       "    </tr>\n",
       "    <tr>\n",
       "      <th>2</th>\n",
       "      <td>Trust: Crypto &amp; Bitcoin Wallet</td>\n",
       "      <td>Frank0901</td>\n",
       "      <td>2022-09-18 06:38:11</td>\n",
       "      <td>Awesome App Review I was so impatient to carry...</td>\n",
       "      <td>en</td>\n",
       "      <td>us</td>\n",
       "      <td>App Store</td>\n",
       "    </tr>\n",
       "    <tr>\n",
       "      <th>3</th>\n",
       "      <td>Trust: Crypto &amp; Bitcoin Wallet</td>\n",
       "      <td>dontcallmepablo</td>\n",
       "      <td>2021-10-27 14:32:27</td>\n",
       "      <td>Mixed Reviews I’ve been using this app for a f...</td>\n",
       "      <td>en</td>\n",
       "      <td>us</td>\n",
       "      <td>App Store</td>\n",
       "    </tr>\n",
       "    <tr>\n",
       "      <th>4</th>\n",
       "      <td>Trust: Crypto &amp; Bitcoin Wallet</td>\n",
       "      <td>k,nguyen</td>\n",
       "      <td>2021-05-14 09:52:31</td>\n",
       "      <td>Need my money back please. Please read it befo...</td>\n",
       "      <td>en</td>\n",
       "      <td>us</td>\n",
       "      <td>App Store</td>\n",
       "    </tr>\n",
       "    <tr>\n",
       "      <th>...</th>\n",
       "      <td>...</td>\n",
       "      <td>...</td>\n",
       "      <td>...</td>\n",
       "      <td>...</td>\n",
       "      <td>...</td>\n",
       "      <td>...</td>\n",
       "      <td>...</td>\n",
       "    </tr>\n",
       "    <tr>\n",
       "      <th>215</th>\n",
       "      <td>Guarda Crypto Bitcoin Wallet</td>\n",
       "      <td>Spanky80-8071</td>\n",
       "      <td>2021-08-04 23:52:58</td>\n",
       "      <td>Guarda is top notch Their wallet works for me ...</td>\n",
       "      <td>en</td>\n",
       "      <td>us</td>\n",
       "      <td>App Store</td>\n",
       "    </tr>\n",
       "    <tr>\n",
       "      <th>216</th>\n",
       "      <td>Guarda Crypto Bitcoin Wallet</td>\n",
       "      <td>Ryanc016</td>\n",
       "      <td>2021-08-26 06:23:19</td>\n",
       "      <td>Extremely difficult to use and unnecessary fee...</td>\n",
       "      <td>en</td>\n",
       "      <td>us</td>\n",
       "      <td>App Store</td>\n",
       "    </tr>\n",
       "    <tr>\n",
       "      <th>217</th>\n",
       "      <td>Guarda Crypto Bitcoin Wallet</td>\n",
       "      <td>dont send money here</td>\n",
       "      <td>2021-01-30 19:08:59</td>\n",
       "      <td>Bad platform... lost half of the money because...</td>\n",
       "      <td>en</td>\n",
       "      <td>us</td>\n",
       "      <td>App Store</td>\n",
       "    </tr>\n",
       "    <tr>\n",
       "      <th>218</th>\n",
       "      <td>Guarda Crypto Bitcoin Wallet</td>\n",
       "      <td>h0nk h0nk acr0ss y0ur brain</td>\n",
       "      <td>2021-04-08 15:53:49</td>\n",
       "      <td>extremely good easy to use, among (sus?) other...</td>\n",
       "      <td>en</td>\n",
       "      <td>us</td>\n",
       "      <td>App Store</td>\n",
       "    </tr>\n",
       "    <tr>\n",
       "      <th>219</th>\n",
       "      <td>Guarda Crypto Bitcoin Wallet</td>\n",
       "      <td>Zzzzxxxxxrs</td>\n",
       "      <td>2021-04-12 05:42:23</td>\n",
       "      <td>Stopped Supporting Coins with no Notice So I h...</td>\n",
       "      <td>en</td>\n",
       "      <td>us</td>\n",
       "      <td>App Store</td>\n",
       "    </tr>\n",
       "  </tbody>\n",
       "</table>\n",
       "<p>220 rows × 7 columns</p>\n",
       "</div>"
      ],
      "text/plain": [
       "                           app name                     username  \\\n",
       "0    Trust: Crypto & Bitcoin Wallet             SureshPatel 0719   \n",
       "1    Trust: Crypto & Bitcoin Wallet               Ravinder Singh   \n",
       "2    Trust: Crypto & Bitcoin Wallet                    Frank0901   \n",
       "3    Trust: Crypto & Bitcoin Wallet              dontcallmepablo   \n",
       "4    Trust: Crypto & Bitcoin Wallet                     k,nguyen   \n",
       "..                              ...                          ...   \n",
       "215    Guarda Crypto Bitcoin Wallet                Spanky80-8071   \n",
       "216    Guarda Crypto Bitcoin Wallet                     Ryanc016   \n",
       "217    Guarda Crypto Bitcoin Wallet         dont send money here   \n",
       "218    Guarda Crypto Bitcoin Wallet  h0nk h0nk acr0ss y0ur brain   \n",
       "219    Guarda Crypto Bitcoin Wallet                  Zzzzxxxxxrs   \n",
       "\n",
       "              timestamp                                    app review text  \\\n",
       "0   2022-09-26 17:22:42                                               good   \n",
       "1   2022-09-26 17:16:17  After update my trust wallet is not open pleas...   \n",
       "2   2022-09-18 06:38:11  Awesome App Review I was so impatient to carry...   \n",
       "3   2021-10-27 14:32:27  Mixed Reviews I’ve been using this app for a f...   \n",
       "4   2021-05-14 09:52:31  Need my money back please. Please read it befo...   \n",
       "..                  ...                                                ...   \n",
       "215 2021-08-04 23:52:58  Guarda is top notch Their wallet works for me ...   \n",
       "216 2021-08-26 06:23:19  Extremely difficult to use and unnecessary fee...   \n",
       "217 2021-01-30 19:08:59  Bad platform... lost half of the money because...   \n",
       "218 2021-04-08 15:53:49  extremely good easy to use, among (sus?) other...   \n",
       "219 2021-04-12 05:42:23  Stopped Supporting Coins with no Notice So I h...   \n",
       "\n",
       "    feteched_language feteched_country  marketplace  \n",
       "0                  en               us  Google Play  \n",
       "1                  en               us  Google Play  \n",
       "2                  en               us    App Store  \n",
       "3                  en               us    App Store  \n",
       "4                  en               us    App Store  \n",
       "..                ...              ...          ...  \n",
       "215                en               us    App Store  \n",
       "216                en               us    App Store  \n",
       "217                en               us    App Store  \n",
       "218                en               us    App Store  \n",
       "219                en               us    App Store  \n",
       "\n",
       "[220 rows x 7 columns]"
      ]
     },
     "execution_count": 24,
     "metadata": {},
     "output_type": "execute_result"
    }
   ],
   "source": [
    "feteched_df"
   ]
  },
  {
   "cell_type": "markdown",
   "metadata": {},
   "source": [
    "### CSV to df"
   ]
  },
  {
   "cell_type": "code",
   "execution_count": 27,
   "metadata": {},
   "outputs": [],
   "source": [
    "feteched_df.to_csv('current_english_fetched.csv',index=False)  "
   ]
  },
  {
   "cell_type": "code",
   "execution_count": 28,
   "metadata": {},
   "outputs": [
    {
     "data": {
      "text/html": [
       "<div>\n",
       "<style scoped>\n",
       "    .dataframe tbody tr th:only-of-type {\n",
       "        vertical-align: middle;\n",
       "    }\n",
       "\n",
       "    .dataframe tbody tr th {\n",
       "        vertical-align: top;\n",
       "    }\n",
       "\n",
       "    .dataframe thead th {\n",
       "        text-align: right;\n",
       "    }\n",
       "</style>\n",
       "<table border=\"1\" class=\"dataframe\">\n",
       "  <thead>\n",
       "    <tr style=\"text-align: right;\">\n",
       "      <th></th>\n",
       "      <th>app name</th>\n",
       "      <th>username</th>\n",
       "      <th>timestamp</th>\n",
       "      <th>app review text</th>\n",
       "      <th>feteched_language</th>\n",
       "      <th>feteched_country</th>\n",
       "      <th>marketplace</th>\n",
       "    </tr>\n",
       "  </thead>\n",
       "  <tbody>\n",
       "    <tr>\n",
       "      <th>0</th>\n",
       "      <td>Trust: Crypto &amp; Bitcoin Wallet</td>\n",
       "      <td>SureshPatel 0719</td>\n",
       "      <td>2022-09-26 17:22:42</td>\n",
       "      <td>good</td>\n",
       "      <td>en</td>\n",
       "      <td>us</td>\n",
       "      <td>Google Play</td>\n",
       "    </tr>\n",
       "    <tr>\n",
       "      <th>1</th>\n",
       "      <td>Trust: Crypto &amp; Bitcoin Wallet</td>\n",
       "      <td>Ravinder Singh</td>\n",
       "      <td>2022-09-26 17:16:17</td>\n",
       "      <td>After update my trust wallet is not open pleas...</td>\n",
       "      <td>en</td>\n",
       "      <td>us</td>\n",
       "      <td>Google Play</td>\n",
       "    </tr>\n",
       "    <tr>\n",
       "      <th>2</th>\n",
       "      <td>Trust: Crypto &amp; Bitcoin Wallet</td>\n",
       "      <td>Frank0901</td>\n",
       "      <td>2022-09-18 06:38:11</td>\n",
       "      <td>Awesome App Review I was so impatient to carry...</td>\n",
       "      <td>en</td>\n",
       "      <td>us</td>\n",
       "      <td>App Store</td>\n",
       "    </tr>\n",
       "    <tr>\n",
       "      <th>3</th>\n",
       "      <td>Trust: Crypto &amp; Bitcoin Wallet</td>\n",
       "      <td>dontcallmepablo</td>\n",
       "      <td>2021-10-27 14:32:27</td>\n",
       "      <td>Mixed Reviews I’ve been using this app for a f...</td>\n",
       "      <td>en</td>\n",
       "      <td>us</td>\n",
       "      <td>App Store</td>\n",
       "    </tr>\n",
       "    <tr>\n",
       "      <th>4</th>\n",
       "      <td>Trust: Crypto &amp; Bitcoin Wallet</td>\n",
       "      <td>k,nguyen</td>\n",
       "      <td>2021-05-14 09:52:31</td>\n",
       "      <td>Need my money back please. Please read it befo...</td>\n",
       "      <td>en</td>\n",
       "      <td>us</td>\n",
       "      <td>App Store</td>\n",
       "    </tr>\n",
       "    <tr>\n",
       "      <th>...</th>\n",
       "      <td>...</td>\n",
       "      <td>...</td>\n",
       "      <td>...</td>\n",
       "      <td>...</td>\n",
       "      <td>...</td>\n",
       "      <td>...</td>\n",
       "      <td>...</td>\n",
       "    </tr>\n",
       "    <tr>\n",
       "      <th>215</th>\n",
       "      <td>Guarda Crypto Bitcoin Wallet</td>\n",
       "      <td>Spanky80-8071</td>\n",
       "      <td>2021-08-04 23:52:58</td>\n",
       "      <td>Guarda is top notch Their wallet works for me ...</td>\n",
       "      <td>en</td>\n",
       "      <td>us</td>\n",
       "      <td>App Store</td>\n",
       "    </tr>\n",
       "    <tr>\n",
       "      <th>216</th>\n",
       "      <td>Guarda Crypto Bitcoin Wallet</td>\n",
       "      <td>Ryanc016</td>\n",
       "      <td>2021-08-26 06:23:19</td>\n",
       "      <td>Extremely difficult to use and unnecessary fee...</td>\n",
       "      <td>en</td>\n",
       "      <td>us</td>\n",
       "      <td>App Store</td>\n",
       "    </tr>\n",
       "    <tr>\n",
       "      <th>217</th>\n",
       "      <td>Guarda Crypto Bitcoin Wallet</td>\n",
       "      <td>dont send money here</td>\n",
       "      <td>2021-01-30 19:08:59</td>\n",
       "      <td>Bad platform... lost half of the money because...</td>\n",
       "      <td>en</td>\n",
       "      <td>us</td>\n",
       "      <td>App Store</td>\n",
       "    </tr>\n",
       "    <tr>\n",
       "      <th>218</th>\n",
       "      <td>Guarda Crypto Bitcoin Wallet</td>\n",
       "      <td>h0nk h0nk acr0ss y0ur brain</td>\n",
       "      <td>2021-04-08 15:53:49</td>\n",
       "      <td>extremely good easy to use, among (sus?) other...</td>\n",
       "      <td>en</td>\n",
       "      <td>us</td>\n",
       "      <td>App Store</td>\n",
       "    </tr>\n",
       "    <tr>\n",
       "      <th>219</th>\n",
       "      <td>Guarda Crypto Bitcoin Wallet</td>\n",
       "      <td>Zzzzxxxxxrs</td>\n",
       "      <td>2021-04-12 05:42:23</td>\n",
       "      <td>Stopped Supporting Coins with no Notice So I h...</td>\n",
       "      <td>en</td>\n",
       "      <td>us</td>\n",
       "      <td>App Store</td>\n",
       "    </tr>\n",
       "  </tbody>\n",
       "</table>\n",
       "<p>220 rows × 7 columns</p>\n",
       "</div>"
      ],
      "text/plain": [
       "                           app name                     username  \\\n",
       "0    Trust: Crypto & Bitcoin Wallet             SureshPatel 0719   \n",
       "1    Trust: Crypto & Bitcoin Wallet               Ravinder Singh   \n",
       "2    Trust: Crypto & Bitcoin Wallet                    Frank0901   \n",
       "3    Trust: Crypto & Bitcoin Wallet              dontcallmepablo   \n",
       "4    Trust: Crypto & Bitcoin Wallet                     k,nguyen   \n",
       "..                              ...                          ...   \n",
       "215    Guarda Crypto Bitcoin Wallet                Spanky80-8071   \n",
       "216    Guarda Crypto Bitcoin Wallet                     Ryanc016   \n",
       "217    Guarda Crypto Bitcoin Wallet         dont send money here   \n",
       "218    Guarda Crypto Bitcoin Wallet  h0nk h0nk acr0ss y0ur brain   \n",
       "219    Guarda Crypto Bitcoin Wallet                  Zzzzxxxxxrs   \n",
       "\n",
       "               timestamp                                    app review text  \\\n",
       "0    2022-09-26 17:22:42                                               good   \n",
       "1    2022-09-26 17:16:17  After update my trust wallet is not open pleas...   \n",
       "2    2022-09-18 06:38:11  Awesome App Review I was so impatient to carry...   \n",
       "3    2021-10-27 14:32:27  Mixed Reviews I’ve been using this app for a f...   \n",
       "4    2021-05-14 09:52:31  Need my money back please. Please read it befo...   \n",
       "..                   ...                                                ...   \n",
       "215  2021-08-04 23:52:58  Guarda is top notch Their wallet works for me ...   \n",
       "216  2021-08-26 06:23:19  Extremely difficult to use and unnecessary fee...   \n",
       "217  2021-01-30 19:08:59  Bad platform... lost half of the money because...   \n",
       "218  2021-04-08 15:53:49  extremely good easy to use, among (sus?) other...   \n",
       "219  2021-04-12 05:42:23  Stopped Supporting Coins with no Notice So I h...   \n",
       "\n",
       "    feteched_language feteched_country  marketplace  \n",
       "0                  en               us  Google Play  \n",
       "1                  en               us  Google Play  \n",
       "2                  en               us    App Store  \n",
       "3                  en               us    App Store  \n",
       "4                  en               us    App Store  \n",
       "..                ...              ...          ...  \n",
       "215                en               us    App Store  \n",
       "216                en               us    App Store  \n",
       "217                en               us    App Store  \n",
       "218                en               us    App Store  \n",
       "219                en               us    App Store  \n",
       "\n",
       "[220 rows x 7 columns]"
      ]
     },
     "execution_count": 28,
     "metadata": {},
     "output_type": "execute_result"
    }
   ],
   "source": [
    "df = pd.read_csv('current_english_fetched.csv')\n",
    "df"
   ]
  },
  {
   "cell_type": "markdown",
   "metadata": {},
   "source": [
    "#### next\n",
    "- sentiment analysis\n",
    "- scrape regradless of the language (beautifulsoup ?)\n",
    "- sentiment analysis regradless of the language\n",
    "- describtive statics\n",
    "- report"
   ]
  },
  {
   "cell_type": "markdown",
   "metadata": {},
   "source": [
    "### Detect language of sentence"
   ]
  },
  {
   "cell_type": "code",
   "execution_count": null,
   "metadata": {},
   "outputs": [],
   "source": []
  },
  {
   "cell_type": "markdown",
   "metadata": {},
   "source": [
    "### Sentiment analysis\n",
    "no matter what the language is"
   ]
  },
  {
   "cell_type": "code",
   "execution_count": null,
   "metadata": {},
   "outputs": [],
   "source": []
  }
 ],
 "metadata": {
  "kernelspec": {
   "display_name": "Python 3.7.8 64-bit",
   "language": "python",
   "name": "python3"
  },
  "language_info": {
   "codemirror_mode": {
    "name": "ipython",
    "version": 3
   },
   "file_extension": ".py",
   "mimetype": "text/x-python",
   "name": "python",
   "nbconvert_exporter": "python",
   "pygments_lexer": "ipython3",
   "version": "3.7.8"
  },
  "orig_nbformat": 4,
  "vscode": {
   "interpreter": {
    "hash": "0a54084e6b208ee8d1ce3989ffc20924477a5f55f5a43e22e699a6741623861e"
   }
  }
 },
 "nbformat": 4,
 "nbformat_minor": 2
}
